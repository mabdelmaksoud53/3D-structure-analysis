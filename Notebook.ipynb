{
 "cells": [
  {
   "cell_type": "markdown",
   "metadata": {},
   "source": [
    "# 3D structure analysis and visualization using BioPython\n",
    "- Sequence analysis is very important, but ultimately, biological function is determined by structure. Here is the FASTA sequence of keap1 kelch domain:\n",
    "\n",
    "```\n",
    "MGHAPKVGRLIYTAGGYFRQSLSYLEAYNPSDGTWLDLADLQVPRSGLAGCVVGGLLYAVGGRNNSPDGNTDSSALDCYNPMTNQWSPCAPMSVPRNRIGVGVIDGHIYAVGGS\n",
    "HGCIHHNSVERYEPERDEWHLVAPMLTRRIGVGVAVLNRLLYAVGGFDGTNRLNSAECYYPERNEWRMITAMNTIRSGAGVCVLHNCIYAAGGYDGQDQLNSVERYDVETETWT\n",
    "FVAPMKHRRSALGITVHQGRIYVLGGYDGHTFLDSVECYDPDTDTWSEVTRMTSGRSGVGVAVTLEHHHHHH\n",
    "```\n",
    "\n",
    "- This protein is critically important for cellular defense against oxidative stress, making it central to antioxidant regulation. Activators of Nrf2 (e.g., certain phytochemicals like lignans) are being explored as potential drugs. You can access our published article, [The promising antioxidant effects of lignans: Nrf2 activation comes into view](https://link.springer.com/article/10.1007/s00210-024-03102-x)\n",
    "\n",
    "- This big string of text doesn't tell us much about how it can actually do this. Structural biologists are able to determine what that sequence looks like when it takes its natural shape in the cell. Here is that sequence's [structure](https://www.rcsb.org/3d-view/4L7B) in 3D.\n",
    "Clearly there is a lot more information coded in the sequence that we need to consider. Today I'll walk you through extracting some useful information from this particular protein using BioPython's `PDB` module."
   ]
  },
  {
   "cell_type": "markdown",
   "metadata": {},
   "source": [
    "### What is a structure?\n",
    "\n",
    "- Biomolecules such as proteins, RNA, and DNA are made up of atoms. Each atom occupies a point in 3 dimensions: X, Y, and Z.\n",
    "Structural biologists isolate molecules in the lab, and using tools such as X-ray crystallography and obtain the X, Y, and Z coordinates of all the atoms in the molecule.\n",
    "Other notable structure solving technologies are: cryo-electron microscopy and Nuclear Magnetic Resonance (NMR).\n",
    "\n",
    "- We don't have to worry about how they did it, but for many years now, solved structures (3D positions of biomolecules atoms) have been deposited in the [RCSB PDB](https://www.rcsb.org/)\n",
    "\n"
   ]
  },
  {
   "cell_type": "markdown",
   "metadata": {},
   "source": [
    "### Downloading a Structure File from the PDB database\n",
    "\n",
    "- Every entry in the database has a unique ID code. The keap1 kelch domain we are interested in ID is: 4L7B. The main file format for sequences is `FASTA`, for structures it is `PDB` or `mmCIF`. BioPython.PDB has parsers for both formats.\n",
    "- [Documentation](http://biopython.org/wiki/The_Biopython_Structural_Bioinformatics_FAQ) is the main BioPython.PDB reference page. We can automatically download a structure from the database using the `PDBList` object's method `retrieve_pdb_file`."
   ]
  },
  {
   "cell_type": "markdown",
   "metadata": {},
   "source": [
    "### Required packages are : \n",
    "- `os`, `Biopython`, `nglview`, and `numpy`."
   ]
  },
  {
   "cell_type": "code",
   "execution_count": null,
   "metadata": {},
   "outputs": [],
   "source": [
    "import Bio\n",
    "import os\n",
    "import nglview as nv\n",
    "import numpy as np"
   ]
  },
  {
   "cell_type": "code",
   "execution_count": null,
   "metadata": {},
   "outputs": [],
   "source": [
    "from Bio.PDB import *\n",
    "pdbl = PDBList()\n",
    "pdb_code = input(\"Enter your PDB ID : \").lower()\n",
    "pdbl.retrieve_pdb_file(pdb_code)"
   ]
  },
  {
   "cell_type": "markdown",
   "metadata": {},
   "source": [
    "- Don't worry about warrning \n",
    "- It tells us that the PDB format is deprecated and that the new default is mmCIF.\n",
    "- Now we have a folder named as `l7` and containing `4l7b.cif` in our working directory."
   ]
  },
  {
   "cell_type": "code",
   "execution_count": null,
   "metadata": {},
   "outputs": [],
   "source": [
    "os.listdir()"
   ]
  },
  {
   "cell_type": "code",
   "execution_count": null,
   "metadata": {},
   "outputs": [],
   "source": [
    "dir_path = input(\"Enter the path of the created directory : \")\n",
    "os.listdir(dir_path)"
   ]
  },
  {
   "cell_type": "markdown",
   "metadata": {},
   "source": [
    "### Parsing Structure files\n",
    "- The first argument in `get_structure` method is an optional name for the macromolecule, and the second argument is the path to the structure file."
   ]
  },
  {
   "cell_type": "code",
   "execution_count": null,
   "metadata": {},
   "outputs": [],
   "source": [
    "parser = MMCIFParser()\n",
    "file_path = input(\"Enter the path of the cif file : \")\n",
    "file_name = input(\"Enter the file name : \")\n",
    "structure = parser.get_structure(file_name, file_path)"
   ]
  },
  {
   "cell_type": "markdown",
   "metadata": {},
   "source": [
    "- Now we have extracted all the structural information from the file. Let's take a peek at the attributes."
   ]
  },
  {
   "cell_type": "code",
   "execution_count": null,
   "metadata": {},
   "outputs": [],
   "source": [
    "def cleandir(obj):\n",
    "    print(\", \".join([a for a in dir(obj) if not a.startswith(\"_\")]))\n",
    "cleandir(structure)"
   ]
  },
  {
   "cell_type": "markdown",
   "metadata": {},
   "source": [
    "- Structure objects are organized in a specific hierarchy of objects. We're just going to focus on the core elements which are: Model --> Chain --> Residue --> Atom.\n",
    "- Each structure file can contain multiple \"models\" of the same molecule. Each model contains several \"chains\" or strands of protein/RNA/DNA/.\n",
    "- Each \"chain\" is made up of residues, or amino acids/DNA bases/RNA bases.\n",
    "- Each residue is made up of Atoms."
   ]
  },
  {
   "cell_type": "markdown",
   "metadata": {},
   "source": [
    "### Visualizing structures in jupyter Notebooks using nglview"
   ]
  },
  {
   "cell_type": "markdown",
   "metadata": {},
   "source": [
    "- To do more advanced manipulations, it is better to use standalone tools such as [Chimera](https://www.cgl.ucsf.edu/chimera/) and [pyMOL](https://pymol.org/2/)."
   ]
  },
  {
   "cell_type": "markdown",
   "metadata": {},
   "source": [
    "### Let's view our keap1 kelch domain bounded to the co-crystalized `1VV`."
   ]
  },
  {
   "cell_type": "code",
   "execution_count": null,
   "metadata": {},
   "outputs": [],
   "source": [
    "view = nv.show_biopython(structure)\n",
    "view.clear_representations()\n",
    "#view as ball and stick (atom and bond)\n",
    "view.add_ball_and_stick()\n",
    "view"
   ]
  },
  {
   "cell_type": "markdown",
   "metadata": {},
   "source": [
    "- As expected, we see a bunch of atoms in 3D space. This can often be hard to look at so we usually visualize this with what's known as a \"ribbon\" representation."
   ]
  },
  {
   "cell_type": "code",
   "execution_count": null,
   "metadata": {},
   "outputs": [],
   "source": [
    "view.clear_representations()\n",
    "#add ribbons\n",
    "view.add_cartoon('protein')\n",
    "#add ball and stick for non-rotien\n",
    "view.add_ball_and_stick('not protein')\n",
    "view"
   ]
  },
  {
   "cell_type": "markdown",
   "metadata": {
    "collapsed": true,
    "jupyter": {
     "outputs_hidden": true
    }
   },
   "source": [
    "- Individual atoms are not shown and instead, each chain is visualized as a continuous ribbon. We can see here that we have 2 different chains, 1 co-crystalized ligand and other co-factors like `ACT` and `NA`.\n",
    "- Let's see how we can get a handle on the different components.\n",
    "- How many models are there in this structure?"
   ]
  },
  {
   "cell_type": "code",
   "execution_count": null,
   "metadata": {},
   "outputs": [],
   "source": [
    "for model in structure:\n",
    "    print(f\"model {model}\")"
   ]
  },
  {
   "cell_type": "markdown",
   "metadata": {},
   "source": [
    "- It looks like there is only one protein so we only have a single model.\n",
    "- But we have several chains, as we saw above."
   ]
  },
  {
   "cell_type": "code",
   "execution_count": null,
   "metadata": {},
   "outputs": [],
   "source": [
    "model = structure[0] #since we only have one model\n",
    "for chain in model:\n",
    "    print(f\"chain {chain}, Chain ID: {chain.id}\")"
   ]
  },
  {
   "cell_type": "markdown",
   "metadata": {},
   "source": [
    "- Ok as we guessed, we have 2 chains: A and B. We can go one step further and get all the residues in any chain. \n",
    "- We can access individual chains like keys in a dictionary from a model."
   ]
  },
  {
   "cell_type": "code",
   "execution_count": null,
   "metadata": {},
   "outputs": [],
   "source": [
    "chain_A = model['A']\n",
    "for res in chain_A:\n",
    "    print(f\"Residue name: {res.resname}, number: {res.id[1]}\")"
   ]
  },
  {
   "cell_type": "markdown",
   "metadata": {},
   "source": [
    "- Now we see that each chain is made up of `Residue`. \n",
    "- Finally, each residue should be made up of atoms. \n",
    "- Let's get residue 338 from Chain A then show it's atoms as an example ."
   ]
  },
  {
   "cell_type": "code",
   "execution_count": null,
   "metadata": {},
   "outputs": [],
   "source": [
    "res = chain_A[338]\n",
    "print(f\"atoms of {res} are : \")\n",
    "\n",
    "for atom in res:\n",
    "    print(f\"{atom.name}\")"
   ]
  },
  {
   "cell_type": "markdown",
   "metadata": {},
   "source": [
    "- Putting it all together, we can print every atom in every residue in the specified chain in our model."
   ]
  },
  {
   "cell_type": "code",
   "execution_count": null,
   "metadata": {},
   "outputs": [],
   "source": [
    "for model in structure:\n",
    "    for chain in model:\n",
    "        for residue in chain:\n",
    "            for atom in residue:\n",
    "                print(atom)"
   ]
  },
  {
   "cell_type": "markdown",
   "metadata": {},
   "source": [
    "- Let's say if we want to design a drug that binds to the keap1 kelch domain and activate it. Given its central role in controlling oxidative stress, modulating this pathway has potential in treating diseases driven by oxidative damage, such as in neurodegenerative diseases and cancer.\n",
    "- In order to do this, we need to know which residues co-crystalized `1VV` binds so we can design a chemical that targets these kinds of residues.\n",
    "\n",
    "## mmCIF annotations\n",
    "mmCIF files are like dictionaries with {key:value}. When we parsed the file above, we really only got the structure info, but there is a lot more information that we can access by parsing a little differently.\n"
   ]
  },
  {
   "cell_type": "markdown",
   "metadata": {},
   "source": [
    "MMCIF files have a ton of information and they look like this:\n",
    "\n",
    "```\n",
    "loop_\n",
    "_pdbx_nonpoly_scheme.asym_id \n",
    "_pdbx_nonpoly_scheme.entity_id \n",
    "_pdbx_nonpoly_scheme.mon_id \n",
    "_pdbx_nonpoly_scheme.ndb_seq_num \n",
    "_pdbx_nonpoly_scheme.pdb_seq_num \n",
    "_pdbx_nonpoly_scheme.auth_seq_num \n",
    "_pdbx_nonpoly_scheme.pdb_mon_id \n",
    "_pdbx_nonpoly_scheme.auth_mon_id \n",
    "_pdbx_nonpoly_scheme.pdb_strand_id \n",
    "_pdbx_nonpoly_scheme.pdb_ins_code \n",
    "C 2 ACT 1   701 1   ACT ACT A . \n",
    "D 2 ACT 1   702 3   ACT ACT A . \n",
    "E 2 ACT 1   703 4   ACT ACT A . \n",
    "F 2 ACT 1   704 1   ACT ACT A . \n",
    "G 3 1VV 1   701 1   1VV UNL B . \n",
    "H 4 NA  1   702 1   NA  NA  B . \n",
    "I 2 ACT 1   703 2   ACT ACT B .  \n",
    "```\n",
    "- This happens to be an entry for \"non-polymer\" entities ligands/chemicals. There are 10 `_pdbx_nonpoly_scheme..` headers. Each corresponds to a label for the columns in the entries below.\n",
    "- So `_pdbx_nonpoly_scheme.mon_id` corresponds to the third column which is the `id` of the ligand.\n",
    "- The `loop_` means, when parsing, loop over all the rows for each column label to make a list.\n",
    "- For example: `_pdbx_nonpoly_scheme.asym_id ` after looping would map to: `['C', 'D', 'E', 'F', 'G', 'H', 'I']`\n",
    "- We're interested in `1VV` which is the co-crystalized ligand, but we see that there are others, lets parse this information into a dictionary."
   ]
  },
  {
   "cell_type": "code",
   "execution_count": null,
   "metadata": {},
   "outputs": [],
   "source": [
    "struc_dict = MMCIF2Dict.MMCIF2Dict('l7/4l7b.cif')\n",
    "print(struc_dict.keys())"
   ]
  },
  {
   "cell_type": "markdown",
   "metadata": {},
   "source": [
    "As you can see we have tons of keys.\n",
    "Binding sites are often annotated by the researches in their mmCIF files.\n",
    "\n",
    "```\n",
    "loop_\n",
    "_struct_site.id \n",
    "_struct_site.pdbx_evidence_code \n",
    "_struct_site.pdbx_auth_asym_id \n",
    "_struct_site.pdbx_auth_comp_id \n",
    "_struct_site.pdbx_auth_seq_id \n",
    "_struct_site.pdbx_auth_ins_code \n",
    "_struct_site.pdbx_num_residues \n",
    "_struct_site.details \n",
    "AC1 Software A ACT 701 ? 7 'BINDING SITE FOR RESIDUE ACT A 701' \n",
    "AC2 Software A ACT 702 ? 3 'BINDING SITE FOR RESIDUE ACT A 702' \n",
    "AC3 Software A ACT 703 ? 5 'BINDING SITE FOR RESIDUE ACT A 703' \n",
    "AC4 Software A ACT 704 ? 7 'BINDING SITE FOR RESIDUE ACT A 704' \n",
    "AC5 Software B 1VV 701 ? 8 'BINDING SITE FOR RESIDUE 1VV B 701' \n",
    "AC6 Software B NA  702 ? 3 'BINDING SITE FOR RESIDUE NA B 702'  \n",
    "AC7 Software B ACT 703 ? 6 'BINDING SITE FOR RESIDUE ACT B 703'  \n",
    "```"
   ]
  },
  {
   "cell_type": "code",
   "execution_count": null,
   "metadata": {},
   "outputs": [],
   "source": [
    "struc_dict['_struct_site.details']"
   ]
  },
  {
   "cell_type": "markdown",
   "metadata": {},
   "source": [
    "- So the binding site for `1VV` has ID `AC5`."
   ]
  },
  {
   "cell_type": "markdown",
   "metadata": {},
   "source": [
    "- There are other useful entries such as `the title of the publication` that this structure was featured in."
   ]
  },
  {
   "cell_type": "code",
   "execution_count": null,
   "metadata": {},
   "outputs": [],
   "source": [
    "struc_dict['_citation.title']"
   ]
  },
  {
   "cell_type": "markdown",
   "metadata": {},
   "source": [
    "- All entry types are documented [here](http://mmcif.wwpdb.org/dictionaries/mmcif_pdbx_v50.dic/Index/).\n",
    "- Let's extract all residues in the `1VV` binding site."
   ]
  },
  {
   "cell_type": "code",
   "execution_count": null,
   "metadata": {},
   "outputs": [],
   "source": [
    "site_ID = struc_dict['_struct_site_gen.site_id']\n",
    "site_chain = struc_dict['_struct_site_gen.auth_asym_id']\n",
    "site_resnum = struc_dict['_struct_site_gen.auth_seq_id']\n",
    "site_resname = struc_dict['_struct_site_gen.label_comp_id']\n",
    "\n",
    "cif_binding_residues = []\n",
    "for bind_id, ch, num, name in zip(site_ID, site_chain, site_resnum, site_resname):\n",
    "    if bind_id == \"AC5\":\n",
    "        print(bind_id, ch, num, name)\n",
    "        try:\n",
    "            cif_binding_residues.append(structure[0][ch][int(num)])\n",
    "        except:\n",
    "            continue\n",
    "    else:\n",
    "        continue"
   ]
  },
  {
   "cell_type": "markdown",
   "metadata": {},
   "source": [
    "- Let's say we don't trust this annotation. We can compute our own ligand binding site and compare.\n",
    "- NOTE: Obviously we could have done this directly with the `structure` object we obtained earlier.\n",
    "\n",
    "### Step 1: Find the 1VV residue\n",
    "- We can get all the residues of a model using the `model.get_residues()` method."
   ]
  },
  {
   "cell_type": "code",
   "execution_count": null,
   "metadata": {},
   "outputs": [],
   "source": [
    "#finding 1VV residue\n",
    "residues = None\n",
    "for res in structure[0].get_residues():\n",
    "    if res.resname == \"1VV\":\n",
    "        residues = res\n",
    "        break\n",
    "print(residues)"
   ]
  },
  {
   "cell_type": "markdown",
   "metadata": {},
   "source": [
    "### Step 2: find all other residues within a certain distance cutoff\n",
    "- Let's set a distance cutoff of 10 Angstroms. We will count any residue whose $\\alpha$-carbon is within 10 Angstrom of any atom in `1VV`.\n",
    "- BioPython gives us a vector of X, Y, Z coordinates for every atom in the residue. Let's get the X, Y, Z coordinates of the alpha carbon of `1VV` residue then take the average.\n",
    "- For this, we use the `coord` attribute."
   ]
  },
  {
   "cell_type": "code",
   "execution_count": null,
   "metadata": {},
   "outputs": [],
   "source": [
    "res_1_CA = structure[0]['B'][334]['CA']\n",
    "res_2_CA = structure[0]['B'][414]['CA']\n",
    "res_3_CA = structure[0]['B'][415]['CA']\n",
    "res_4_CA = structure[0]['B'][509]['CA']\n",
    "res_5_CA = structure[0]['B'][556]['CA']\n",
    "res_6_CA = structure[0]['B'][572]['CA']\n",
    "res_7_CA = structure[0]['B'][602]['CA']\n",
    "\n",
    "coords = []\n",
    "\n",
    "coords.append(res_1_CA.coord)\n",
    "coords.append(res_2_CA.coord)\n",
    "coords.append(res_3_CA.coord)\n",
    "coords.append(res_4_CA.coord)\n",
    "coords.append(res_5_CA.coord)\n",
    "coords.append(res_6_CA.coord)\n",
    "coords.append(res_7_CA.coord)\n",
    "\n",
    "average_coord = np.mean(coords, axis=0)\n",
    "\n",
    "# Print each coordinate and the average\n",
    "for i, coord in enumerate(coords, start=1):\n",
    "    print(f\"Residue {i} CA coordinate: {coord}\")\n",
    "print(\"-\" * 50)\n",
    "print(f\"Average coordinate: {average_coord}\")"
   ]
  },
  {
   "cell_type": "markdown",
   "metadata": {},
   "source": [
    "- Now we can use this to compute distances!"
   ]
  },
  {
   "cell_type": "code",
   "execution_count": null,
   "metadata": {},
   "outputs": [],
   "source": [
    "cutoff = 10\n",
    "binding_residues = []\n",
    "\n",
    "for res in structure[0].get_residues():\n",
    "    # Skip the 1VV residue\n",
    "    if res == residues:\n",
    "        continue\n",
    "    # Non-amino acid residues are tagged with an 'H' in their id tuple\n",
    "    # We want to skip these\n",
    "    elif res.id[0].startswith(\"H\"):\n",
    "        continue\n",
    "    # Check if the residue contains a \"CA\" atom\n",
    "    elif \"CA\" not in res:\n",
    "        continue\n",
    "    else:\n",
    "        alpha_carbon = res[\"CA\"]\n",
    "        distances = []\n",
    "        for atom in residues:\n",
    "            # Subtract the two position vectors\n",
    "            diff_vector = alpha_carbon.coord - atom.coord\n",
    "            # Calculate the Euclidean distance\n",
    "            distances.append(np.linalg.norm(diff_vector))\n",
    "        # Check if the minimum distance falls within the cutoff\n",
    "        if min(distances) < cutoff:\n",
    "            binding_residues.append(res)\n",
    "print(binding_residues)"
   ]
  },
  {
   "cell_type": "markdown",
   "metadata": {},
   "source": [
    "### Visualize the structure"
   ]
  },
  {
   "cell_type": "code",
   "execution_count": null,
   "metadata": {},
   "outputs": [],
   "source": [
    "view = nv.show_biopython(structure)\n",
    "\n",
    "# Iterate through residues and assign colors\n",
    "for res in structure[0].get_residues():\n",
    "    # Default color (blue) for non-binding residues\n",
    "    color = \"blue\"\n",
    "    if res in binding_residues:  # Check if residue is a binding residue\n",
    "        color = \"green\"  # Color for binding residues\n",
    "    # Add the residue with the color to the representation\n",
    "    view.add_representation(\n",
    "        \"ball+stick\",\n",
    "        selection=f\"{res.get_full_id()[3][1]}:{res.get_full_id()[2]}\",\n",
    "        color=color,\n",
    "    )\n",
    "\n",
    "# Display the structure\n",
    "view"
   ]
  },
  {
   "cell_type": "markdown",
   "metadata": {},
   "source": [
    "- Now let's compare this to our list of residues obtained from the mmCIF annotations."
   ]
  },
  {
   "cell_type": "code",
   "execution_count": null,
   "metadata": {},
   "outputs": [],
   "source": [
    "view = nv.show_biopython(structure)\n",
    "\n",
    "# Use the `add_representation` method to color residues\n",
    "for res in structure[0].get_residues():\n",
    "    # Assign colors based on whether the residue is in cif_binding_residues\n",
    "    color = \"green\" if res in cif_binding_residues else \"blue\"\n",
    "    residue_id = res.get_id()[1]  # Get the residue number\n",
    "    chain_id = res.get_full_id()[2]  # Get the chain ID\n",
    "    # Add representation with specific color\n",
    "    view.add_representation(\n",
    "        \"spacefill\",\n",
    "        selection=f\"{residue_id}:{chain_id}\",\n",
    "        color=color,\n",
    "    )\n",
    "\n",
    "# Display the structure\n",
    "view"
   ]
  }
 ],
 "metadata": {
  "kernelspec": {
   "display_name": "Python 3",
   "language": "python",
   "name": "python3"
  },
  "language_info": {
   "codemirror_mode": {
    "name": "ipython",
    "version": 3
   },
   "file_extension": ".py",
   "mimetype": "text/x-python",
   "name": "python",
   "nbconvert_exporter": "python",
   "pygments_lexer": "ipython3",
   "version": "3.12.3"
  }
 },
 "nbformat": 4,
 "nbformat_minor": 4
}
